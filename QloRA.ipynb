{
  "nbformat": 4,
  "nbformat_minor": 0,
  "metadata": {
    "colab": {
      "provenance": [],
      "authorship_tag": "ABX9TyO77glAdcutrYLsMrhvy7Ob",
      "include_colab_link": true
    },
    "kernelspec": {
      "name": "python3",
      "display_name": "Python 3"
    },
    "language_info": {
      "name": "python"
    }
  },
  "cells": [
    {
      "cell_type": "markdown",
      "metadata": {
        "id": "view-in-github",
        "colab_type": "text"
      },
      "source": [
        "<a href=\"https://colab.research.google.com/github/kofi20/QLoRA/blob/main/QloRA.ipynb\" target=\"_parent\"><img src=\"https://colab.research.google.com/assets/colab-badge.svg\" alt=\"Open In Colab\"/></a>"
      ]
    },
    {
      "cell_type": "markdown",
      "source": [
        "Install required libraries"
      ],
      "metadata": {
        "id": "RT0eHKDrnaWS"
      }
    },
    {
      "cell_type": "code",
      "source": [
        "!pip install trl transformers accelerate peft huggingface_hub -Uqqq\n",
        "!pip install datasets bitsandbytes einops wandb -Uqqq\n",
        "!pip install torch"
      ],
      "metadata": {
        "id": "9fqXF5DEo53L"
      },
      "execution_count": null,
      "outputs": []
    },
    {
      "cell_type": "markdown",
      "source": [
        "Prepare the Environment"
      ],
      "metadata": {
        "id": "kH3iHgrnnm1T"
      }
    },
    {
      "cell_type": "code",
      "source": [
        "from huggingface_hub import notebook_login\n",
        "notebook_login()"
      ],
      "metadata": {
        "id": "F-Br5JW_nd_F"
      },
      "execution_count": null,
      "outputs": []
    },
    {
      "cell_type": "markdown",
      "source": [
        "Load custom Mental Health conv dataset"
      ],
      "metadata": {
        "id": "X-T1Z4TEn8Wt"
      }
    },
    {
      "cell_type": "code",
      "source": [
        "from datasets import load_dataset\n",
        "\n",
        "data = load_dataset(\"heliosbrahma/mental_health_chatbot_dataset\")\n",
        "data"
      ],
      "metadata": {
        "id": "p_XaeawHneRT"
      },
      "execution_count": null,
      "outputs": []
    },
    {
      "cell_type": "markdown",
      "source": [
        "Model"
      ],
      "metadata": {
        "id": "xlf9mxXZob0D"
      }
    },
    {
      "cell_type": "code",
      "source": [
        "from transformers import BitsAndBytesConfig, AutoModelForCausalLM\n",
        "import torch\n",
        "\n",
        "model_name = \"ybelkada/falcon-7b-sharded-bf16\" # sharded falcon-7b model\n",
        "\n",
        "bnb_config = BitsAndBytesConfig(\n",
        "    load_in_4bit=True,            # load model in 4-bit precision\n",
        "    bnb_4bit_quant_type=\"nf4\",    # pre-trained model should be quantized in 4-bit NF format\n",
        "    bnb_4bit_use_double_quant=True, # Using double quantization as mentioned in QLoRA paper\n",
        "    bnb_4bit_compute_dtype=torch.bfloat16, # During computation, pre-trained model should be loaded in BF16 format\n",
        ")\n",
        "\n",
        "model = AutoModelForCausalLM.from_pretrained(\n",
        "    model_name,\n",
        "    quantization_config=bnb_config, # Use bitsandbytes config\n",
        "    device_map=\"auto\",  # Specifying device_map=\"auto\" so that HF Accelerate will determine which GPU to put each layer of the model on\n",
        "    trust_remote_code=True, # Set trust_remote_code=True to use falcon-7b model with custom code\n",
        ")"
      ],
      "metadata": {
        "id": "beM9Kvrenega"
      },
      "execution_count": null,
      "outputs": []
    },
    {
      "cell_type": "markdown",
      "source": [
        "Tokenization"
      ],
      "metadata": {
        "id": "ngbcEMvRpNRn"
      }
    },
    {
      "cell_type": "code",
      "source": [
        "from transformers import AutoTokenizer\n",
        "\n",
        "tokenizer = AutoTokenizer.from_pretrained(model_name, trust_remote_code=True) # Set trust_remote_code=True\n",
        "tokenizer.pad_token = tokenizer.eos_token # Setting pad_token same as eos_token"
      ],
      "metadata": {
        "id": "2o0Hy8oqnezB"
      },
      "execution_count": null,
      "outputs": []
    },
    {
      "cell_type": "markdown",
      "source": [
        "Creating Peft Model"
      ],
      "metadata": {
        "id": "YFWeidhEpiU4"
      }
    },
    {
      "cell_type": "code",
      "source": [
        "from peft import LoraConfig, get_peft_model, prepare_model_for_kbit_training\n",
        "\n",
        "model = prepare_model_for_kbit_training(model)\n",
        "\n",
        "lora_alpha = 32 # scaling factor for the weight matrices\n",
        "lora_dropout = 0.05 # dropout probability of the LoRA layers\n",
        "lora_rank = 32 # dimension of the low-rank matrices\n",
        "\n",
        "peft_config = LoraConfig(\n",
        "    lora_alpha=lora_alpha,\n",
        "    lora_dropout=lora_dropout,\n",
        "    r=lora_rank,\n",
        "    bias=\"none\",  # setting to 'none' for only training weight params instead of biases\n",
        "    task_type=\"CAUSAL_LM\",\n",
        "    target_modules=[         # Setting names of modules in falcon-7b model that we want to apply LoRA to\n",
        "        \"query_key_value\",\n",
        "        \"dense\",\n",
        "        \"dense_h_to_4h\",\n",
        "        \"dense_4h_to_h\",\n",
        "    ]\n",
        ")\n",
        "\n",
        "peft_model = get_peft_model(model, peft_config)"
      ],
      "metadata": {
        "id": "3lIbaqhRnfDZ"
      },
      "execution_count": null,
      "outputs": []
    },
    {
      "cell_type": "markdown",
      "source": [
        "Training"
      ],
      "metadata": {
        "id": "AdHlguMvqrK6"
      }
    },
    {
      "cell_type": "code",
      "source": [
        "from transformers import TrainingArguments\n",
        "\n",
        "output_dir = \"./falcon-7b-sharded-bf16-finetuned-mental-health-conversational\"\n",
        "per_device_train_batch_size = 16 # reduce batch size by 2x if out-of-memory error\n",
        "gradient_accumulation_steps = 4  # increase gradient accumulation steps by 2x if batch size is reduced\n",
        "optim = \"paged_adamw_32bit\" # activates the paging for better memory management\n",
        "save_strategy=\"steps\" # checkpoint save strategy to adopt during training\n",
        "save_steps = 10 # number of updates steps before two checkpoint saves\n",
        "logging_steps = 10  # number of update steps between two logs if logging_strategy=\"steps\"\n",
        "learning_rate = 2e-4  # learning rate for AdamW optimizer\n",
        "max_grad_norm = 0.3 # maximum gradient norm (for gradient clipping)\n",
        "max_steps = 320        # training will happen for 320 steps\n",
        "warmup_ratio = 0.03 # number of steps used for a linear warmup from 0 to learning_rate\n",
        "lr_scheduler_type = \"cosine\"  # learning rate scheduler\n",
        "\n",
        "training_arguments = TrainingArguments(\n",
        "    output_dir=output_dir,\n",
        "    per_device_train_batch_size=per_device_train_batch_size,\n",
        "    gradient_accumulation_steps=gradient_accumulation_steps,\n",
        "    optim=optim,\n",
        "    save_steps=save_steps,\n",
        "    logging_steps=logging_steps,\n",
        "    learning_rate=learning_rate,\n",
        "    bf16=True,\n",
        "    max_grad_norm=max_grad_norm,\n",
        "    max_steps=max_steps,\n",
        "    warmup_ratio=warmup_ratio,\n",
        "    group_by_length=True,\n",
        "    lr_scheduler_type=lr_scheduler_type,\n",
        "    push_to_hub=True,\n",
        ")"
      ],
      "metadata": {
        "id": "Cj2wFn5PnfP8"
      },
      "execution_count": null,
      "outputs": []
    },
    {
      "cell_type": "code",
      "source": [
        "from trl import SFTTrainer\n",
        "\n",
        "trainer = SFTTrainer(\n",
        "    model=peft_model,\n",
        "    train_dataset=data['train'],\n",
        "    peft_config=peft_config,\n",
        "    dataset_text_field=\"text\",\n",
        "    max_seq_length=1024,\n",
        "    tokenizer=tokenizer,\n",
        "    args=training_arguments,\n",
        ")"
      ],
      "metadata": {
        "id": "P-k-8tN-nfWu"
      },
      "execution_count": null,
      "outputs": []
    },
    {
      "cell_type": "markdown",
      "source": [
        "Stable training"
      ],
      "metadata": {
        "id": "CWw9S_d1t5S1"
      }
    },
    {
      "cell_type": "code",
      "source": [
        "# upcasting the layer norms in torch.bfloat16 for more stable training\n",
        "for name, module in trainer.model.named_modules():\n",
        "    if \"norm\" in name:\n",
        "        module = module.to(torch.bfloat16)"
      ],
      "metadata": {
        "id": "dbW0FAfKnfgr"
      },
      "execution_count": null,
      "outputs": []
    },
    {
      "cell_type": "code",
      "source": [
        "# authenticate WandB for logging metrics\n",
        "import wandb\n",
        "wandb.login()"
      ],
      "metadata": {
        "id": "PFwYt-fSnf2P"
      },
      "execution_count": null,
      "outputs": []
    },
    {
      "cell_type": "code",
      "source": [
        "peft_model.config.use_cache = False\n",
        "trainer.train()"
      ],
      "metadata": {
        "id": "iVzDdwonuC9c"
      },
      "execution_count": null,
      "outputs": []
    },
    {
      "cell_type": "code",
      "source": [
        "trainer.push_to_hub()"
      ],
      "metadata": {
        "id": "PWBRMPU_uDR2"
      },
      "execution_count": null,
      "outputs": []
    },
    {
      "cell_type": "markdown",
      "source": [
        "Using fine tuned model"
      ],
      "metadata": {
        "id": "XgjZ8qL1u0Sk"
      }
    },
    {
      "cell_type": "code",
      "source": [
        "# Loading original model\n",
        "model_name = \"ybelkada/falcon-7b-sharded-bf16\"\n",
        "\n",
        "bnb_config = BitsAndBytesConfig(\n",
        "    load_in_4bit=True,\n",
        "    bnb_4bit_quant_type=\"nf4\",\n",
        "    bnb_4bit_use_double_quant=True,\n",
        "    bnb_4bit_compute_dtype=torch.float16,\n",
        ")\n",
        "\n",
        "model = AutoModelForCausalLM.from_pretrained(\n",
        "    model_name,\n",
        "    quantization_config=bnb_config,\n",
        "    device_map=\"auto\",\n",
        "    trust_remote_code=True,\n",
        ")\n",
        "\n",
        "tokenizer = AutoTokenizer.from_pretrained(model_name, trust_remote_code=True)\n",
        "tokenizer.pad_token = tokenizer.eos_token"
      ],
      "metadata": {
        "id": "oimTlZSMuDtD"
      },
      "execution_count": null,
      "outputs": []
    },
    {
      "cell_type": "code",
      "source": [
        "from transformers import GenerationConfig\n",
        "peft_tokenizer = tokenizer(PEFT_MODEL = model)\n",
        "\n",
        "# Function to generate responses from both original model and PEFT model and compare their answers.\n",
        "def generate_answer(query):\n",
        "  system_prompt = \"\"\"Answer the following question truthfully.\n",
        "  If you don't know the answer, respond 'Sorry, I don't know the answer to this question.'.\n",
        "  If the question is too complex, respond 'Kindly, consult a psychiatrist for further queries.'.\"\"\"\n",
        "\n",
        "  user_prompt = f\"\"\"<HUMAN>: {query}\n",
        "  <ASSISTANT>: \"\"\"\n",
        "\n",
        "  final_prompt = system_prompt + \"\\n\" + user_prompt\n",
        "\n",
        "  device = \"cuda:0\"\n",
        "  dashline = \"-\".join(\"\" for i in range(50))\n",
        "\n",
        "  encoding = tokenizer(final_prompt, return_tensors=\"pt\").to(device)\n",
        "  outputs = model.generate(input_ids=encoding.input_ids, generation_config=GenerationConfig(max_new_tokens=256, pad_token_id = tokenizer.eos_token_id, \\\n",
        "                                                                                                                     eos_token_id = tokenizer.eos_token_id, attention_mask = encoding.attention_mask, \\\n",
        "                                                                                                                     temperature=0.4, top_p=0.6, repetition_penalty=1.3, num_return_sequences=1,))\n",
        "  text_output = tokenizer.decode(outputs[0], skip_special_tokens=True)\n",
        "\n",
        "  print(dashline)\n",
        "  print(f'ORIGINAL MODEL RESPONSE:\\n{text_output}')\n",
        "  print(dashline)\n",
        "\n",
        "  peft_encoding = peft_tokenizer(final_prompt, return_tensors=\"pt\").to(device)\n",
        "  peft_outputs = peft_model.generate(input_ids=peft_encoding.input_ids, generation_config=GenerationConfig(max_new_tokens=256, pad_token_id = peft_tokenizer.eos_token_id, \\\n",
        "                                                                                                                     eos_token_id = peft_tokenizer.eos_token_id, attention_mask = peft_encoding.attention_mask, \\\n",
        "                                                                                                                     temperature=0.4, top_p=0.6, repetition_penalty=1.3, num_return_sequences=1,))\n",
        "  peft_text_output = peft_tokenizer.decode(peft_outputs[0], skip_special_tokens=True)\n",
        "\n",
        "  print(f'PEFT MODEL RESPONSE:\\n{peft_text_output}')\n",
        "  print(dashline)"
      ],
      "metadata": {
        "id": "rB1KEFslu8tb"
      },
      "execution_count": null,
      "outputs": []
    },
    {
      "cell_type": "code",
      "source": [
        "query = \"How can I prevent anxiety and depression?\"\n",
        "generate_answer(query)"
      ],
      "metadata": {
        "id": "JcD1r9HKu9AA"
      },
      "execution_count": null,
      "outputs": []
    },
    {
      "cell_type": "code",
      "source": [],
      "metadata": {
        "id": "XwKUzDebu9QR"
      },
      "execution_count": null,
      "outputs": []
    },
    {
      "cell_type": "code",
      "source": [],
      "metadata": {
        "id": "oHHemfy8u9hZ"
      },
      "execution_count": null,
      "outputs": []
    },
    {
      "cell_type": "code",
      "source": [],
      "metadata": {
        "id": "B6-TRPZfu9zi"
      },
      "execution_count": null,
      "outputs": []
    }
  ]
}